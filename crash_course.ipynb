{
 "cells": [
  {
   "cell_type": "code",
   "execution_count": 1,
   "metadata": {},
   "outputs": [],
   "source": [
    "%load_ext autoreload\n",
    "%autoreload 2"
   ]
  },
  {
   "cell_type": "code",
   "execution_count": 75,
   "metadata": {},
   "outputs": [],
   "source": [
    "import pyneb as pn\n",
    "from helper_functions import *"
   ]
  },
  {
   "cell_type": "code",
   "execution_count": 3,
   "metadata": {},
   "outputs": [],
   "source": [
    "DataFileDict = {'H1': {'rec': 'h_i_rec_SH95.fits'},\n",
    "                'O2': {'atom': 'o_ii_atom_FFT04.dat', 'coll': 'o_ii_coll_Kal09.dat'},\n",
    "                'S2': {'coll': 's_ii_coll_TZ10.dat'}}\n",
    "\n",
    "pn.atomicData.setDataFileDict(DataFileDict)"
   ]
  },
  {
   "cell_type": "code",
   "execution_count": 62,
   "metadata": {},
   "outputs": [],
   "source": [
    "diag = pn.Diagnostics()\n",
    "diag.addDiag('[SII] 6716/6731', ('S2', 'L(6716)/L(6731)', 'RMS([E(6716), E(6731)])'))"
   ]
  },
  {
   "cell_type": "code",
   "execution_count": 61,
   "metadata": {},
   "outputs": [
    {
     "name": "stdout",
     "output_type": "stream",
     "text": [
      "H1: Atomic data: Storey and Hummer 1995, MNRAS, 272, 41\n"
     ]
    }
   ],
   "source": [
    "H1 = pn.RecAtom('H', 1) #use on the no brackets\n",
    "O2 = pn.Atom('O', 2)    #use with brackets\n",
    "O3 = pn.Atom('O', 3)\n",
    "S2 = pn.Atom('S', 2) \n",
    "\n",
    "# Define the number of Monte Carlo iterations:\n",
    "n = 10 #1500, using 10 as a test case once I get the code working I can increase this"
   ]
  },
  {
   "cell_type": "code",
   "execution_count": 6,
   "metadata": {},
   "outputs": [],
   "source": [
    "# S2.getCritDensity()       #temperature needed\n",
    "# S2.getLowDensRatio()      #\n",
    "# S2.getHighDensRatio()     #"
   ]
  },
  {
   "cell_type": "code",
   "execution_count": 7,
   "metadata": {},
   "outputs": [],
   "source": [
    "#generating random ratios for OIII and SII for testing purposes\n",
    "np.random.seed(100101)\n",
    "n = 10 \n",
    "random_OIII_ratios = np.random.exponential(scale = 0.1, size = n)\n",
    "random_SII_ratios = np.random.uniform(low = 0.8, high = 1.2, size = n)"
   ]
  },
  {
   "cell_type": "code",
   "execution_count": 26,
   "metadata": {},
   "outputs": [],
   "source": [
    "#\"[OIII] 4363/5007+\" : ('O3', 'L(4363)/(L(5007)+L(4959))', 'RMS([E(5007)*L(5007)/(L(5007)+L(4959)), E(4959)*L(4959)/(L(5007)+L(4959)), E(4363)])')\n",
    "temp, den = diag.getCrossTemDen('[OIII] 4363/5007+', '[SII] 6716/6731', random_OIII_ratios, random_SII_ratios)"
   ]
  },
  {
   "cell_type": "code",
   "execution_count": 27,
   "metadata": {},
   "outputs": [
    {
     "name": "stdout",
     "output_type": "stream",
     "text": [
      "OIII 4363/5007+ = 0.004, SII 6716/6731 = 1.038, T = 9191 K, n_e = 591 cm-3\n",
      "OIII 4363/5007+ = 0.241, SII 6716/6731 = 0.832, T = nan K, n_e = nan cm-3\n",
      "OIII 4363/5007+ = 0.002, SII 6716/6731 = 1.050, T = 8125 K, n_e = 537 cm-3\n",
      "OIII 4363/5007+ = 0.074, SII 6716/6731 = 0.954, T = nan K, n_e = nan cm-3\n",
      "OIII 4363/5007+ = 0.220, SII 6716/6731 = 0.854, T = nan K, n_e = nan cm-3\n",
      "OIII 4363/5007+ = 0.116, SII 6716/6731 = 0.832, T = nan K, n_e = nan cm-3\n",
      "OIII 4363/5007+ = 0.010, SII 6716/6731 = 0.826, T = 12691 K, n_e = 1563 cm-3\n",
      "OIII 4363/5007+ = 0.014, SII 6716/6731 = 0.863, T = 14755 K, n_e = 1420 cm-3\n",
      "OIII 4363/5007+ = 0.004, SII 6716/6731 = 0.935, T = 9616 K, n_e = 907 cm-3\n",
      "OIII 4363/5007+ = 0.075, SII 6716/6731 = 1.094, T = nan K, n_e = nan cm-3\n"
     ]
    }
   ],
   "source": [
    "display_summary(random_OIII_ratios, random_SII_ratios, temp, den)"
   ]
  },
  {
   "cell_type": "code",
   "execution_count": 36,
   "metadata": {},
   "outputs": [],
   "source": [
    "test_temp = replace_NaNs(temp, 15000)"
   ]
  },
  {
   "cell_type": "code",
   "execution_count": 37,
   "metadata": {},
   "outputs": [
    {
     "data": {
      "text/plain": [
       "array([ 9190.79711589, 15000.        ,  8125.39723659, 15000.        ,\n",
       "       15000.        , 15000.        , 12691.28739333, 14755.19713442,\n",
       "        9615.67753289, 15000.        ])"
      ]
     },
     "execution_count": 37,
     "metadata": {},
     "output_type": "execute_result"
    }
   ],
   "source": [
    "test_temp"
   ]
  },
  {
   "cell_type": "code",
   "execution_count": 43,
   "metadata": {},
   "outputs": [],
   "source": [
    "test_den = replace_NaNs(den, 100)"
   ]
  },
  {
   "cell_type": "code",
   "execution_count": 44,
   "metadata": {},
   "outputs": [
    {
     "data": {
      "text/plain": [
       "array([ 590.76307458,  100.        ,  537.13473049,  100.        ,\n",
       "        100.        ,  100.        , 1562.78375759, 1419.84443724,\n",
       "        906.56474788,  100.        ])"
      ]
     },
     "execution_count": 44,
     "metadata": {},
     "output_type": "execute_result"
    }
   ],
   "source": [
    "test_den"
   ]
  },
  {
   "cell_type": "code",
   "execution_count": 45,
   "metadata": {},
   "outputs": [
    {
     "name": "stdout",
     "output_type": "stream",
     "text": [
      "OIII 4363/5007+ = 0.004, SII 6716/6731 = 1.038, T = 591 K, n_e = 591 cm-3\n",
      "OIII 4363/5007+ = 0.241, SII 6716/6731 = 0.832, T = 100 K, n_e = 100 cm-3\n",
      "OIII 4363/5007+ = 0.002, SII 6716/6731 = 1.050, T = 537 K, n_e = 537 cm-3\n",
      "OIII 4363/5007+ = 0.074, SII 6716/6731 = 0.954, T = 100 K, n_e = 100 cm-3\n",
      "OIII 4363/5007+ = 0.220, SII 6716/6731 = 0.854, T = 100 K, n_e = 100 cm-3\n",
      "OIII 4363/5007+ = 0.116, SII 6716/6731 = 0.832, T = 100 K, n_e = 100 cm-3\n",
      "OIII 4363/5007+ = 0.010, SII 6716/6731 = 0.826, T = 1563 K, n_e = 1563 cm-3\n",
      "OIII 4363/5007+ = 0.014, SII 6716/6731 = 0.863, T = 1420 K, n_e = 1420 cm-3\n",
      "OIII 4363/5007+ = 0.004, SII 6716/6731 = 0.935, T = 907 K, n_e = 907 cm-3\n",
      "OIII 4363/5007+ = 0.075, SII 6716/6731 = 1.094, T = 100 K, n_e = 100 cm-3\n"
     ]
    }
   ],
   "source": [
    "display_summary(random_OIII_ratios, random_SII_ratios, test_den, test_den)"
   ]
  },
  {
   "cell_type": "code",
   "execution_count": 46,
   "metadata": {},
   "outputs": [
    {
     "data": {
      "text/html": [
       "<div>\n",
       "<style scoped>\n",
       "    .dataframe tbody tr th:only-of-type {\n",
       "        vertical-align: middle;\n",
       "    }\n",
       "\n",
       "    .dataframe tbody tr th {\n",
       "        vertical-align: top;\n",
       "    }\n",
       "\n",
       "    .dataframe thead th {\n",
       "        text-align: right;\n",
       "    }\n",
       "</style>\n",
       "<table border=\"1\" class=\"dataframe\">\n",
       "  <thead>\n",
       "    <tr style=\"text-align: right;\">\n",
       "      <th></th>\n",
       "      <th>N_crit_1</th>\n",
       "      <th>N_crit_2</th>\n",
       "      <th>N_crit_3</th>\n",
       "      <th>N_crit_4</th>\n",
       "      <th>N_crit_5</th>\n",
       "      <th>Temperature</th>\n",
       "    </tr>\n",
       "  </thead>\n",
       "  <tbody>\n",
       "    <tr>\n",
       "      <th>0</th>\n",
       "      <td>0.0</td>\n",
       "      <td>486.841599</td>\n",
       "      <td>3445.096458</td>\n",
       "      <td>673104.068053</td>\n",
       "      <td>2.353649e+07</td>\n",
       "      <td>9190.797116</td>\n",
       "    </tr>\n",
       "    <tr>\n",
       "      <th>1</th>\n",
       "      <td>NaN</td>\n",
       "      <td>NaN</td>\n",
       "      <td>NaN</td>\n",
       "      <td>NaN</td>\n",
       "      <td>NaN</td>\n",
       "      <td>NaN</td>\n",
       "    </tr>\n",
       "    <tr>\n",
       "      <th>2</th>\n",
       "      <td>0.0</td>\n",
       "      <td>466.448887</td>\n",
       "      <td>3314.979913</td>\n",
       "      <td>647163.211778</td>\n",
       "      <td>2.257348e+07</td>\n",
       "      <td>8125.397237</td>\n",
       "    </tr>\n",
       "    <tr>\n",
       "      <th>3</th>\n",
       "      <td>NaN</td>\n",
       "      <td>NaN</td>\n",
       "      <td>NaN</td>\n",
       "      <td>NaN</td>\n",
       "      <td>NaN</td>\n",
       "      <td>NaN</td>\n",
       "    </tr>\n",
       "    <tr>\n",
       "      <th>4</th>\n",
       "      <td>NaN</td>\n",
       "      <td>NaN</td>\n",
       "      <td>NaN</td>\n",
       "      <td>NaN</td>\n",
       "      <td>NaN</td>\n",
       "      <td>NaN</td>\n",
       "    </tr>\n",
       "    <tr>\n",
       "      <th>5</th>\n",
       "      <td>NaN</td>\n",
       "      <td>NaN</td>\n",
       "      <td>NaN</td>\n",
       "      <td>NaN</td>\n",
       "      <td>NaN</td>\n",
       "      <td>NaN</td>\n",
       "    </tr>\n",
       "    <tr>\n",
       "      <th>6</th>\n",
       "      <td>0.0</td>\n",
       "      <td>540.856653</td>\n",
       "      <td>3745.716658</td>\n",
       "      <td>743756.513030</td>\n",
       "      <td>2.667062e+07</td>\n",
       "      <td>12691.287393</td>\n",
       "    </tr>\n",
       "    <tr>\n",
       "      <th>7</th>\n",
       "      <td>0.0</td>\n",
       "      <td>566.680422</td>\n",
       "      <td>3866.368804</td>\n",
       "      <td>779348.651541</td>\n",
       "      <td>2.856261e+07</td>\n",
       "      <td>14755.197134</td>\n",
       "    </tr>\n",
       "    <tr>\n",
       "      <th>8</th>\n",
       "      <td>0.0</td>\n",
       "      <td>494.362079</td>\n",
       "      <td>3491.056341</td>\n",
       "      <td>682768.717175</td>\n",
       "      <td>2.390225e+07</td>\n",
       "      <td>9615.677533</td>\n",
       "    </tr>\n",
       "    <tr>\n",
       "      <th>9</th>\n",
       "      <td>NaN</td>\n",
       "      <td>NaN</td>\n",
       "      <td>NaN</td>\n",
       "      <td>NaN</td>\n",
       "      <td>NaN</td>\n",
       "      <td>NaN</td>\n",
       "    </tr>\n",
       "  </tbody>\n",
       "</table>\n",
       "</div>"
      ],
      "text/plain": [
       "   N_crit_1    N_crit_2     N_crit_3       N_crit_4      N_crit_5  \\\n",
       "0       0.0  486.841599  3445.096458  673104.068053  2.353649e+07   \n",
       "1       NaN         NaN          NaN            NaN           NaN   \n",
       "2       0.0  466.448887  3314.979913  647163.211778  2.257348e+07   \n",
       "3       NaN         NaN          NaN            NaN           NaN   \n",
       "4       NaN         NaN          NaN            NaN           NaN   \n",
       "5       NaN         NaN          NaN            NaN           NaN   \n",
       "6       0.0  540.856653  3745.716658  743756.513030  2.667062e+07   \n",
       "7       0.0  566.680422  3866.368804  779348.651541  2.856261e+07   \n",
       "8       0.0  494.362079  3491.056341  682768.717175  2.390225e+07   \n",
       "9       NaN         NaN          NaN            NaN           NaN   \n",
       "\n",
       "    Temperature  \n",
       "0   9190.797116  \n",
       "1           NaN  \n",
       "2   8125.397237  \n",
       "3           NaN  \n",
       "4           NaN  \n",
       "5           NaN  \n",
       "6  12691.287393  \n",
       "7  14755.197134  \n",
       "8   9615.677533  \n",
       "9           NaN  "
      ]
     },
     "execution_count": 46,
     "metadata": {},
     "output_type": "execute_result"
    }
   ],
   "source": [
    "dist_getcritdensity(O3, temp, return_type='df')"
   ]
  },
  {
   "cell_type": "code",
   "execution_count": 47,
   "metadata": {},
   "outputs": [
    {
     "data": {
      "text/html": [
       "<div>\n",
       "<style scoped>\n",
       "    .dataframe tbody tr th:only-of-type {\n",
       "        vertical-align: middle;\n",
       "    }\n",
       "\n",
       "    .dataframe tbody tr th {\n",
       "        vertical-align: top;\n",
       "    }\n",
       "\n",
       "    .dataframe thead th {\n",
       "        text-align: right;\n",
       "    }\n",
       "</style>\n",
       "<table border=\"1\" class=\"dataframe\">\n",
       "  <thead>\n",
       "    <tr style=\"text-align: right;\">\n",
       "      <th></th>\n",
       "      <th>N_crit_1</th>\n",
       "      <th>N_crit_2</th>\n",
       "      <th>N_crit_3</th>\n",
       "      <th>N_crit_4</th>\n",
       "      <th>N_crit_5</th>\n",
       "      <th>Temperature</th>\n",
       "    </tr>\n",
       "  </thead>\n",
       "  <tbody>\n",
       "    <tr>\n",
       "      <th>0</th>\n",
       "      <td>0.0</td>\n",
       "      <td>486.841599</td>\n",
       "      <td>3445.096458</td>\n",
       "      <td>673104.068053</td>\n",
       "      <td>2.353649e+07</td>\n",
       "      <td>9190.797116</td>\n",
       "    </tr>\n",
       "    <tr>\n",
       "      <th>1</th>\n",
       "      <td>0.0</td>\n",
       "      <td>569.490652</td>\n",
       "      <td>3878.715258</td>\n",
       "      <td>783294.414469</td>\n",
       "      <td>2.877727e+07</td>\n",
       "      <td>15000.000000</td>\n",
       "    </tr>\n",
       "    <tr>\n",
       "      <th>2</th>\n",
       "      <td>0.0</td>\n",
       "      <td>466.448887</td>\n",
       "      <td>3314.979913</td>\n",
       "      <td>647163.211778</td>\n",
       "      <td>2.257348e+07</td>\n",
       "      <td>8125.397237</td>\n",
       "    </tr>\n",
       "    <tr>\n",
       "      <th>3</th>\n",
       "      <td>0.0</td>\n",
       "      <td>569.490652</td>\n",
       "      <td>3878.715258</td>\n",
       "      <td>783294.414469</td>\n",
       "      <td>2.877727e+07</td>\n",
       "      <td>15000.000000</td>\n",
       "    </tr>\n",
       "    <tr>\n",
       "      <th>4</th>\n",
       "      <td>0.0</td>\n",
       "      <td>569.490652</td>\n",
       "      <td>3878.715258</td>\n",
       "      <td>783294.414469</td>\n",
       "      <td>2.877727e+07</td>\n",
       "      <td>15000.000000</td>\n",
       "    </tr>\n",
       "    <tr>\n",
       "      <th>5</th>\n",
       "      <td>0.0</td>\n",
       "      <td>569.490652</td>\n",
       "      <td>3878.715258</td>\n",
       "      <td>783294.414469</td>\n",
       "      <td>2.877727e+07</td>\n",
       "      <td>15000.000000</td>\n",
       "    </tr>\n",
       "    <tr>\n",
       "      <th>6</th>\n",
       "      <td>0.0</td>\n",
       "      <td>540.856653</td>\n",
       "      <td>3745.716658</td>\n",
       "      <td>743756.513030</td>\n",
       "      <td>2.667062e+07</td>\n",
       "      <td>12691.287393</td>\n",
       "    </tr>\n",
       "    <tr>\n",
       "      <th>7</th>\n",
       "      <td>0.0</td>\n",
       "      <td>566.680422</td>\n",
       "      <td>3866.368804</td>\n",
       "      <td>779348.651541</td>\n",
       "      <td>2.856261e+07</td>\n",
       "      <td>14755.197134</td>\n",
       "    </tr>\n",
       "    <tr>\n",
       "      <th>8</th>\n",
       "      <td>0.0</td>\n",
       "      <td>494.362079</td>\n",
       "      <td>3491.056341</td>\n",
       "      <td>682768.717175</td>\n",
       "      <td>2.390225e+07</td>\n",
       "      <td>9615.677533</td>\n",
       "    </tr>\n",
       "    <tr>\n",
       "      <th>9</th>\n",
       "      <td>0.0</td>\n",
       "      <td>569.490652</td>\n",
       "      <td>3878.715258</td>\n",
       "      <td>783294.414469</td>\n",
       "      <td>2.877727e+07</td>\n",
       "      <td>15000.000000</td>\n",
       "    </tr>\n",
       "  </tbody>\n",
       "</table>\n",
       "</div>"
      ],
      "text/plain": [
       "   N_crit_1    N_crit_2     N_crit_3       N_crit_4      N_crit_5  \\\n",
       "0       0.0  486.841599  3445.096458  673104.068053  2.353649e+07   \n",
       "1       0.0  569.490652  3878.715258  783294.414469  2.877727e+07   \n",
       "2       0.0  466.448887  3314.979913  647163.211778  2.257348e+07   \n",
       "3       0.0  569.490652  3878.715258  783294.414469  2.877727e+07   \n",
       "4       0.0  569.490652  3878.715258  783294.414469  2.877727e+07   \n",
       "5       0.0  569.490652  3878.715258  783294.414469  2.877727e+07   \n",
       "6       0.0  540.856653  3745.716658  743756.513030  2.667062e+07   \n",
       "7       0.0  566.680422  3866.368804  779348.651541  2.856261e+07   \n",
       "8       0.0  494.362079  3491.056341  682768.717175  2.390225e+07   \n",
       "9       0.0  569.490652  3878.715258  783294.414469  2.877727e+07   \n",
       "\n",
       "    Temperature  \n",
       "0   9190.797116  \n",
       "1  15000.000000  \n",
       "2   8125.397237  \n",
       "3  15000.000000  \n",
       "4  15000.000000  \n",
       "5  15000.000000  \n",
       "6  12691.287393  \n",
       "7  14755.197134  \n",
       "8   9615.677533  \n",
       "9  15000.000000  "
      ]
     },
     "execution_count": 47,
     "metadata": {},
     "output_type": "execute_result"
    }
   ],
   "source": [
    "dist_getcritdensity(O3, test_temp, return_type='df')"
   ]
  },
  {
   "cell_type": "code",
   "execution_count": 54,
   "metadata": {},
   "outputs": [],
   "source": [
    "np.random.seed(100101)\n",
    "random_OIII5007_intensities = np.random.uniform(low = 1, high = 100, size = n)\n",
    "random_OIII4969_intensities = random_OIII5007_intensities/3\n",
    "random_OIII4363_intensities = np.random.uniform(low = 1, high = 10, size = n)\n",
    "\n",
    "\n",
    "test_hbeta = 50\n",
    "\n",
    "random_OIII5007_int = convert_int_relative_to_hbeta(random_OIII5007_intensities, test_hbeta)\n",
    "random_OIII4969_int = convert_int_relative_to_hbeta(random_OIII4969_intensities, test_hbeta)\n",
    "random_OIII4363_int = convert_int_relative_to_hbeta(random_OIII4363_intensities, test_hbeta)"
   ]
  },
  {
   "cell_type": "code",
   "execution_count": 55,
   "metadata": {},
   "outputs": [],
   "source": [
    "OIII_5007_ion_abundance = ionic_abundance(O3, random_OIII5007_int, test_temp, test_den, 5007)\n",
    "OIII_4969_ion_abundance = ionic_abundance(O3, random_OIII4969_int, test_temp, test_den, 4969)\n",
    "OIII_4363_ion_abundance = ionic_abundance(O3, random_OIII4363_int, test_temp, test_den, 4363)\n",
    "\n"
   ]
  },
  {
   "cell_type": "code",
   "execution_count": 71,
   "metadata": {},
   "outputs": [],
   "source": [
    "total_OIII_abundance = np.sum([OIII_5007_ion_abundance, OIII_4969_ion_abundance, OIII_4363_ion_abundance], axis = 0)"
   ]
  },
  {
   "cell_type": "code",
   "execution_count": 73,
   "metadata": {},
   "outputs": [
    {
     "data": {
      "text/plain": [
       "array([9.09172969, 7.76052021, 9.52006374, 7.85288276, 7.79263228,\n",
       "       7.68363181, 7.66692533, 7.53460713, 8.75519127, 8.02446035])"
      ]
     },
     "execution_count": 73,
     "metadata": {},
     "output_type": "execute_result"
    }
   ],
   "source": [
    "12 + np.log10(total_OIII_abundance)"
   ]
  },
  {
   "cell_type": "code",
   "execution_count": 69,
   "metadata": {},
   "outputs": [
    {
     "data": {
      "text/plain": [
       "nan"
      ]
     },
     "execution_count": 69,
     "metadata": {},
     "output_type": "execute_result"
    }
   ],
   "source": [
    "S2.getLowDensRatio(to_eval = 'L(6716)/L(6731)', tem=1.5e4)\n",
    "#getting NaN but it could be due to my SII data PyNeb is using"
   ]
  },
  {
   "cell_type": "code",
   "execution_count": 70,
   "metadata": {},
   "outputs": [
    {
     "data": {
      "text/plain": [
       "nan"
      ]
     },
     "execution_count": 70,
     "metadata": {},
     "output_type": "execute_result"
    }
   ],
   "source": [
    "S2.getHighDensRatio(to_eval = 'L(6716)/L(6731)', tem=1.5e4)"
   ]
  },
  {
   "cell_type": "code",
   "execution_count": 79,
   "metadata": {},
   "outputs": [],
   "source": [
    "tem, den = compute_cross_temden((random_OIII_ratios, random_SII_ratios))"
   ]
  },
  {
   "cell_type": "code",
   "execution_count": null,
   "metadata": {},
   "outputs": [],
   "source": [
    "#generating random ratios for OIII and SII for testing purposes\n",
    "np.random.seed(100101)\n",
    "n = 10000 \n",
    "random_OIII_ratios = np.random.exponential(scale = 0.1, size = n)\n",
    "random_SII_ratios = np.random.uniform(low = 0.8, high = 1.2, size = n)\n",
    "\n",
    "cross_temden(random_OIII_ratios, random_SII_ratios, multiprocess = True)"
   ]
  },
  {
   "cell_type": "code",
   "execution_count": null,
   "metadata": {},
   "outputs": [],
   "source": []
  }
 ],
 "metadata": {
  "kernelspec": {
   "display_name": "research",
   "language": "python",
   "name": "python3"
  },
  "language_info": {
   "codemirror_mode": {
    "name": "ipython",
    "version": 3
   },
   "file_extension": ".py",
   "mimetype": "text/x-python",
   "name": "python",
   "nbconvert_exporter": "python",
   "pygments_lexer": "ipython3",
   "version": "3.12.2"
  }
 },
 "nbformat": 4,
 "nbformat_minor": 2
}
